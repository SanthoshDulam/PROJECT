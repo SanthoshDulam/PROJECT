{
 "cells": [
  {
   "cell_type": "code",
   "execution_count": 1,
   "metadata": {},
   "outputs": [],
   "source": [
    "import os\n",
    "import shutil\n",
    "import numpy as np\n",
    "from tensorflow.keras.preprocessing.image import ImageDataGenerator, load_img, img_to_array, array_to_img\n"
   ]
  },
  {
   "cell_type": "code",
   "execution_count": 11,
   "metadata": {},
   "outputs": [],
   "source": [
    "# Define paths for original dataset and the output directory\n",
    "input_dir = r'C:\\Users\\C RISHI VARDHAN REDD\\Desktop\\osteoathritisp\\trainp'\n",
    "output_dir = r'C:\\Users\\C RISHI VARDHAN REDD\\Desktop\\osteoathritispp\\trainpp'\n",
    "target_images_per_class = 2000"
   ]
  },
  {
   "cell_type": "code",
   "execution_count": 12,
   "metadata": {},
   "outputs": [],
   "source": [
    "# ImageDataGenerator for augmentation\n",
    "datagen = ImageDataGenerator(\n",
    "    rotation_range=20,\n",
    "    width_shift_range=0.2,\n",
    "    height_shift_range=0.2,\n",
    "    shear_range=0.2,\n",
    "    zoom_range=0.2,\n",
    "    horizontal_flip=True,\n",
    "    fill_mode='nearest'\n",
    ")"
   ]
  },
  {
   "cell_type": "code",
   "execution_count": 13,
   "metadata": {},
   "outputs": [],
   "source": [
    "# Ensure output directory exists\n",
    "if not os.path.exists(output_dir):\n",
    "    os.makedirs(output_dir)"
   ]
  },
  {
   "cell_type": "code",
   "execution_count": 14,
   "metadata": {},
   "outputs": [],
   "source": [
    "# Function to generate augmented images\n",
    "def augment_class_images(class_name):\n",
    "    input_class_dir = os.path.join(input_dir, class_name)\n",
    "    output_class_dir = os.path.join(output_dir, class_name)\n",
    "\n",
    "    # Ensure class output directory exists\n",
    "    if not os.path.exists(output_class_dir):\n",
    "        os.makedirs(output_class_dir)\n",
    "\n",
    "    # Get all images from the class\n",
    "    images = os.listdir(input_class_dir)\n",
    "    image_count = len(images)\n",
    "\n",
    "    # Calculate the number of augmentations needed\n",
    "    augment_needed = target_images_per_class - image_count\n",
    "\n",
    "    if augment_needed <= 0:\n",
    "        print(f\"{class_name} already has {image_count} images, no augmentation needed.\")\n",
    "        # Copy the original images to the new directory if needed\n",
    "        for img in images:\n",
    "            shutil.copy(os.path.join(input_class_dir, img), output_class_dir)\n",
    "        return\n",
    "\n",
    "    print(f\"Augmenting {augment_needed} images for class: {class_name}\")\n",
    "\n",
    "    i = 0\n",
    "    while image_count < target_images_per_class:\n",
    "        img_name = images[i % len(images)]\n",
    "        img_path = os.path.join(input_class_dir, img_name)\n",
    "\n",
    "        # Load the image\n",
    "        img = load_img(img_path)\n",
    "        x = img_to_array(img)\n",
    "        x = np.expand_dims(x, axis=0)\n",
    "\n",
    "        # Generate augmented images\n",
    "        for batch in datagen.flow(x, batch_size=1, save_to_dir=output_class_dir,\n",
    "                                  save_prefix='aug', save_format='jpg'):\n",
    "            image_count += 1\n",
    "            if image_count >= target_images_per_class:\n",
    "                break\n",
    "\n",
    "        i += 1\n"
   ]
  },
  {
   "cell_type": "code",
   "execution_count": 15,
   "metadata": {},
   "outputs": [
    {
     "name": "stdout",
     "output_type": "stream",
     "text": [
      "0p already has 2286 images, no augmentation needed.\n",
      "Augmenting 954 images for class: 1p\n",
      "Augmenting 484 images for class: 2p\n",
      "Augmenting 943 images for class: 3p\n",
      "Augmenting 1827 images for class: 4p\n",
      "Augmentation completed!\n"
     ]
    }
   ],
   "source": [
    "# Get list of class directories\n",
    "classes = os.listdir(input_dir)\n",
    "\n",
    "# Perform augmentation for each class\n",
    "for class_name in classes:\n",
    "    augment_class_images(class_name)\n",
    "\n",
    "print(\"Augmentation completed!\")"
   ]
  },
  {
   "cell_type": "code",
   "execution_count": null,
   "metadata": {},
   "outputs": [],
   "source": []
  },
  {
   "cell_type": "code",
   "execution_count": null,
   "metadata": {},
   "outputs": [],
   "source": []
  },
  {
   "cell_type": "code",
   "execution_count": null,
   "metadata": {},
   "outputs": [],
   "source": []
  },
  {
   "cell_type": "code",
   "execution_count": null,
   "metadata": {},
   "outputs": [],
   "source": []
  },
  {
   "cell_type": "code",
   "execution_count": null,
   "metadata": {},
   "outputs": [],
   "source": []
  },
  {
   "cell_type": "code",
   "execution_count": null,
   "metadata": {},
   "outputs": [],
   "source": []
  },
  {
   "cell_type": "code",
   "execution_count": null,
   "metadata": {},
   "outputs": [],
   "source": []
  },
  {
   "cell_type": "code",
   "execution_count": null,
   "metadata": {},
   "outputs": [],
   "source": []
  },
  {
   "cell_type": "code",
   "execution_count": null,
   "metadata": {},
   "outputs": [],
   "source": []
  },
  {
   "cell_type": "code",
   "execution_count": null,
   "metadata": {},
   "outputs": [],
   "source": []
  },
  {
   "cell_type": "code",
   "execution_count": null,
   "metadata": {},
   "outputs": [],
   "source": []
  },
  {
   "cell_type": "code",
   "execution_count": null,
   "metadata": {},
   "outputs": [],
   "source": []
  },
  {
   "cell_type": "code",
   "execution_count": null,
   "metadata": {},
   "outputs": [],
   "source": []
  },
  {
   "cell_type": "code",
   "execution_count": null,
   "metadata": {},
   "outputs": [],
   "source": []
  },
  {
   "cell_type": "code",
   "execution_count": null,
   "metadata": {},
   "outputs": [],
   "source": []
  },
  {
   "cell_type": "code",
   "execution_count": null,
   "metadata": {},
   "outputs": [],
   "source": []
  },
  {
   "cell_type": "code",
   "execution_count": null,
   "metadata": {},
   "outputs": [],
   "source": []
  },
  {
   "cell_type": "code",
   "execution_count": null,
   "metadata": {},
   "outputs": [],
   "source": []
  },
  {
   "cell_type": "code",
   "execution_count": null,
   "metadata": {},
   "outputs": [],
   "source": []
  },
  {
   "cell_type": "code",
   "execution_count": null,
   "metadata": {},
   "outputs": [],
   "source": []
  }
 ],
 "metadata": {
  "kernelspec": {
   "display_name": "Python 3",
   "language": "python",
   "name": "python3"
  },
  "language_info": {
   "codemirror_mode": {
    "name": "ipython",
    "version": 3
   },
   "file_extension": ".py",
   "mimetype": "text/x-python",
   "name": "python",
   "nbconvert_exporter": "python",
   "pygments_lexer": "ipython3",
   "version": "3.11.9"
  }
 },
 "nbformat": 4,
 "nbformat_minor": 2
}
